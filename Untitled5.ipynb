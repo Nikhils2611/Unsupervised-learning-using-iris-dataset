{
 "cells": [
  {
   "cell_type": "code",
   "execution_count": 1,
   "metadata": {},
   "outputs": [],
   "source": [
    "import pandas as pd"
   ]
  },
  {
   "cell_type": "code",
   "execution_count": 2,
   "metadata": {},
   "outputs": [],
   "source": [
    "import numpy as np"
   ]
  },
  {
   "cell_type": "code",
   "execution_count": 3,
   "metadata": {},
   "outputs": [],
   "source": [
    "df=pd.read_csv(\"D:/iris.csv\")"
   ]
  },
  {
   "cell_type": "code",
   "execution_count": 4,
   "metadata": {},
   "outputs": [
    {
     "data": {
      "text/html": [
       "<div>\n",
       "<style scoped>\n",
       "    .dataframe tbody tr th:only-of-type {\n",
       "        vertical-align: middle;\n",
       "    }\n",
       "\n",
       "    .dataframe tbody tr th {\n",
       "        vertical-align: top;\n",
       "    }\n",
       "\n",
       "    .dataframe thead th {\n",
       "        text-align: right;\n",
       "    }\n",
       "</style>\n",
       "<table border=\"1\" class=\"dataframe\">\n",
       "  <thead>\n",
       "    <tr style=\"text-align: right;\">\n",
       "      <th></th>\n",
       "      <th>sepal_length</th>\n",
       "      <th>sepal_width</th>\n",
       "      <th>petal_length</th>\n",
       "      <th>petal_width</th>\n",
       "      <th>species</th>\n",
       "    </tr>\n",
       "  </thead>\n",
       "  <tbody>\n",
       "    <tr>\n",
       "      <th>0</th>\n",
       "      <td>5.1</td>\n",
       "      <td>3.5</td>\n",
       "      <td>1.4</td>\n",
       "      <td>0.2</td>\n",
       "      <td>setosa</td>\n",
       "    </tr>\n",
       "    <tr>\n",
       "      <th>1</th>\n",
       "      <td>4.9</td>\n",
       "      <td>3.0</td>\n",
       "      <td>1.4</td>\n",
       "      <td>0.2</td>\n",
       "      <td>setosa</td>\n",
       "    </tr>\n",
       "    <tr>\n",
       "      <th>2</th>\n",
       "      <td>4.7</td>\n",
       "      <td>3.2</td>\n",
       "      <td>1.3</td>\n",
       "      <td>0.2</td>\n",
       "      <td>setosa</td>\n",
       "    </tr>\n",
       "    <tr>\n",
       "      <th>3</th>\n",
       "      <td>4.6</td>\n",
       "      <td>3.1</td>\n",
       "      <td>1.5</td>\n",
       "      <td>0.2</td>\n",
       "      <td>setosa</td>\n",
       "    </tr>\n",
       "    <tr>\n",
       "      <th>4</th>\n",
       "      <td>5.0</td>\n",
       "      <td>3.6</td>\n",
       "      <td>1.4</td>\n",
       "      <td>0.2</td>\n",
       "      <td>setosa</td>\n",
       "    </tr>\n",
       "  </tbody>\n",
       "</table>\n",
       "</div>"
      ],
      "text/plain": [
       "   sepal_length  sepal_width  petal_length  petal_width species\n",
       "0           5.1          3.5           1.4          0.2  setosa\n",
       "1           4.9          3.0           1.4          0.2  setosa\n",
       "2           4.7          3.2           1.3          0.2  setosa\n",
       "3           4.6          3.1           1.5          0.2  setosa\n",
       "4           5.0          3.6           1.4          0.2  setosa"
      ]
     },
     "execution_count": 4,
     "metadata": {},
     "output_type": "execute_result"
    }
   ],
   "source": [
    "df.head()"
   ]
  },
  {
   "cell_type": "code",
   "execution_count": 5,
   "metadata": {},
   "outputs": [
    {
     "data": {
      "text/plain": [
       "[(5.1, 3.5),\n",
       " (4.9, 3.0),\n",
       " (4.7, 3.2),\n",
       " (4.6, 3.1),\n",
       " (5.0, 3.6),\n",
       " (5.4, 3.9),\n",
       " (4.6, 3.4),\n",
       " (5.0, 3.4),\n",
       " (4.4, 2.9),\n",
       " (4.9, 3.1),\n",
       " (5.4, 3.7),\n",
       " (4.8, 3.4),\n",
       " (4.8, 3.0),\n",
       " (4.3, 3.0),\n",
       " (5.8, 4.0),\n",
       " (5.7, 4.4),\n",
       " (5.4, 3.9),\n",
       " (5.1, 3.5),\n",
       " (5.7, 3.8),\n",
       " (5.1, 3.8),\n",
       " (5.4, 3.4),\n",
       " (5.1, 3.7),\n",
       " (4.6, 3.6),\n",
       " (5.1, 3.3),\n",
       " (4.8, 3.4),\n",
       " (5.0, 3.0),\n",
       " (5.0, 3.4),\n",
       " (5.2, 3.5),\n",
       " (5.2, 3.4),\n",
       " (4.7, 3.2),\n",
       " (4.8, 3.1),\n",
       " (5.4, 3.4),\n",
       " (5.2, 4.1),\n",
       " (5.5, 4.2),\n",
       " (4.9, 3.1),\n",
       " (5.0, 3.2),\n",
       " (5.5, 3.5),\n",
       " (4.9, 3.1),\n",
       " (4.4, 3.0),\n",
       " (5.1, 3.4),\n",
       " (5.0, 3.5),\n",
       " (4.5, 2.3),\n",
       " (4.4, 3.2),\n",
       " (5.0, 3.5),\n",
       " (5.1, 3.8),\n",
       " (4.8, 3.0),\n",
       " (5.1, 3.8),\n",
       " (4.6, 3.2),\n",
       " (5.3, 3.7),\n",
       " (5.0, 3.3),\n",
       " (7.0, 3.2),\n",
       " (6.4, 3.2),\n",
       " (6.9, 3.1),\n",
       " (5.5, 2.3),\n",
       " (6.5, 2.8),\n",
       " (5.7, 2.8),\n",
       " (6.3, 3.3),\n",
       " (4.9, 2.4),\n",
       " (6.6, 2.9),\n",
       " (5.2, 2.7),\n",
       " (5.0, 2.0),\n",
       " (5.9, 3.0),\n",
       " (6.0, 2.2),\n",
       " (6.1, 2.9),\n",
       " (5.6, 2.9),\n",
       " (6.7, 3.1),\n",
       " (5.6, 3.0),\n",
       " (5.8, 2.7),\n",
       " (6.2, 2.2),\n",
       " (5.6, 2.5),\n",
       " (5.9, 3.2),\n",
       " (6.1, 2.8),\n",
       " (6.3, 2.5),\n",
       " (6.1, 2.8),\n",
       " (6.4, 2.9),\n",
       " (6.6, 3.0),\n",
       " (6.8, 2.8),\n",
       " (6.7, 3.0),\n",
       " (6.0, 2.9),\n",
       " (5.7, 2.6),\n",
       " (5.5, 2.4),\n",
       " (5.5, 2.4),\n",
       " (5.8, 2.7),\n",
       " (6.0, 2.7),\n",
       " (5.4, 3.0),\n",
       " (6.0, 3.4),\n",
       " (6.7, 3.1),\n",
       " (6.3, 2.3),\n",
       " (5.6, 3.0),\n",
       " (5.5, 2.5),\n",
       " (5.5, 2.6),\n",
       " (6.1, 3.0),\n",
       " (5.8, 2.6),\n",
       " (5.0, 2.3),\n",
       " (5.6, 2.7),\n",
       " (5.7, 3.0),\n",
       " (5.7, 2.9),\n",
       " (6.2, 2.9),\n",
       " (5.1, 2.5),\n",
       " (5.7, 2.8),\n",
       " (6.3, 3.3),\n",
       " (5.8, 2.7),\n",
       " (7.1, 3.0),\n",
       " (6.3, 2.9),\n",
       " (6.5, 3.0),\n",
       " (7.6, 3.0),\n",
       " (4.9, 2.5),\n",
       " (7.3, 2.9),\n",
       " (6.7, 2.5),\n",
       " (7.2, 3.6),\n",
       " (6.5, 3.2),\n",
       " (6.4, 2.7),\n",
       " (6.8, 3.0),\n",
       " (5.7, 2.5),\n",
       " (5.8, 2.8),\n",
       " (6.4, 3.2),\n",
       " (6.5, 3.0),\n",
       " (7.7, 3.8),\n",
       " (7.7, 2.6),\n",
       " (6.0, 2.2),\n",
       " (6.9, 3.2),\n",
       " (5.6, 2.8),\n",
       " (7.7, 2.8),\n",
       " (6.3, 2.7),\n",
       " (6.7, 3.3),\n",
       " (7.2, 3.2),\n",
       " (6.2, 2.8),\n",
       " (6.1, 3.0),\n",
       " (6.4, 2.8),\n",
       " (7.2, 3.0),\n",
       " (7.4, 2.8),\n",
       " (7.9, 3.8),\n",
       " (6.4, 2.8),\n",
       " (6.3, 2.8),\n",
       " (6.1, 2.6),\n",
       " (7.7, 3.0),\n",
       " (6.3, 3.4),\n",
       " (6.4, 3.1),\n",
       " (6.0, 3.0),\n",
       " (6.9, 3.1),\n",
       " (6.7, 3.1),\n",
       " (6.9, 3.1),\n",
       " (5.8, 2.7),\n",
       " (6.8, 3.2),\n",
       " (6.7, 3.3),\n",
       " (6.7, 3.0),\n",
       " (6.3, 2.5),\n",
       " (6.5, 3.0),\n",
       " (6.2, 3.4),\n",
       " (5.9, 3.0)]"
      ]
     },
     "execution_count": 5,
     "metadata": {},
     "output_type": "execute_result"
    }
   ],
   "source": [
    "x=df[\"sepal_length\"]\n",
    "y=df[\"sepal_width\"]\n",
    "data = list(zip(x.values,y.values))\n",
    "data"
   ]
  },
  {
   "cell_type": "code",
   "execution_count": 15,
   "metadata": {},
   "outputs": [
    {
     "data": {
      "text/plain": [
       "KMeans(algorithm='auto', copy_x=True, init='k-means++', max_iter=300,\n",
       "    n_clusters=4, n_init=10, n_jobs=None, precompute_distances='auto',\n",
       "    random_state=None, tol=0.0001, verbose=0)"
      ]
     },
     "execution_count": 15,
     "metadata": {},
     "output_type": "execute_result"
    }
   ],
   "source": [
    "from sklearn.cluster import KMeans\n",
    "import matplotlib.pyplot as plt\n",
    "model=KMeans(n_clusters=4)\n",
    "model.fit(data)"
   ]
  },
  {
   "cell_type": "code",
   "execution_count": 16,
   "metadata": {},
   "outputs": [
    {
     "data": {
      "text/plain": [
       "<function matplotlib.pyplot.show(*args, **kw)>"
      ]
     },
     "execution_count": 16,
     "metadata": {},
     "output_type": "execute_result"
    },
    {
     "data": {
      "image/png": "[encoded data removed]",
      "text/plain": [
       "<Figure size 432x288 with 1 Axes>"
      ]
     },
     "metadata": {
      "needs_background": "light"
     },
     "output_type": "display_data"
    }
   ],
   "source": [
    "plt.scatter(x,y,c=model.labels_)\n",
    "plt.show"
   ]
  }
 ],
 "metadata": {
  "kernelspec": {
   "display_name": "Python 3",
   "language": "python",
   "name": "python3"
  },
  "language_info": {
   "codemirror_mode": {
    "name": "ipython",
    "version": 3
   },
   "file_extension": ".py",
   "mimetype": "text/x-python",
   "name": "python",
   "nbconvert_exporter": "python",
   "pygments_lexer": "ipython3",
   "version": "3.7.3"
  }
 },
 "nbformat": 4,
 "nbformat_minor": 2
}
